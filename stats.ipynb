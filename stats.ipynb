{
 "cells": [
  {
   "cell_type": "markdown",
   "source": [
    "# Imports"
   ],
   "metadata": {
    "collapsed": false
   }
  },
  {
   "cell_type": "code",
   "execution_count": null,
   "metadata": {
    "collapsed": true
   },
   "outputs": [],
   "source": [
    "from pathlib import Path\n",
    "import re\n",
    "\n",
    "from more_itertools import powerset\n",
    "\n",
    "import numpy as np\n",
    "import pandas as pd\n",
    "\n",
    "import statsmodels.api as sm\n",
    "from statsmodels.formula.api import ols\n",
    "\n",
    "from constants import DataSplit, Model, Metric, DATASET_SYMBOLS, CONSENSUS_BASELINES"
   ]
  },
  {
   "cell_type": "markdown",
   "source": [
    "# Script Parameters"
   ],
   "metadata": {
    "collapsed": false
   }
  },
  {
   "cell_type": "code",
   "execution_count": null,
   "outputs": [],
   "source": [
    "data_dir = r'./out'  # Directory containing experiment data to analyze\n",
    "concat_results = True  # If True, join all files within data_dir (and subdirectories, used with replications). If False, only use <data_dir>/results.csv\n",
    "alpha = 0.05  # Desired alpha for statistical testing (threshold for ANOVA model reduction)\n",
    "\n",
    "# Print settings\n",
    "only_reduced = True  # Only display/print reduced models\n",
    "latex_output = False  # Print LaTeX instead of DataFrames\n",
    "combine_anova_latex = True  # Combine full and reduced ANOVA models into one LaTeX table (REQUIRES latex_output = True, OVERRIDES only_reduced)"
   ],
   "metadata": {
    "collapsed": false
   }
  },
  {
   "cell_type": "markdown",
   "source": [
    "# Function Definitions"
   ],
   "metadata": {
    "collapsed": false
   }
  },
  {
   "cell_type": "code",
   "execution_count": null,
   "outputs": [],
   "source": [
    "# Pivot table aggregation technique\n",
    "pivot_agg_func = (lambda x: f'${np.mean(x):.3f} \\\\pm {np.std(x):.3f}$') if latex_output else [np.mean, np.std]\n",
    "\n",
    "# These functions are used to clean up the ANOVA and LaTeX printouts\n",
    "def clean_effect_name(name):\n",
    "    return re.findall(r'\"([^\"]*)\"', name)[0][0] if '\"' in name else name\n",
    "\n",
    "def fix_ordering(df, level=1):\n",
    "    return df.reindex(columns=df.columns.reindex([metric.value for metric in Metric], level=level)[0])\n",
    "\n",
    "def get_style(df):\n",
    "    return df.style.set_table_styles([\n",
    "        {'selector': 'toprule', 'props': ':hline;'},\n",
    "        {'selector': 'midrule', 'props': ':hline\\hline;'},\n",
    "        {'selector': 'bottomrule', 'props': ':hline;'}\n",
    "    ])\n",
    "\n",
    "def get_anova_latex(df, name):\n",
    "    df = df.loc[:, (slice(None), ['Coefficient','PR(>F)'])]\n",
    "    df = df.rename(index={'Residual/Intercept': 'Intercept'}, columns={'PR(>F)': 'P-value'})\n",
    "    df = fix_ordering(df, level=0)\n",
    "\n",
    "    s = get_style(df)\n",
    "    s.format({(metric, col): f'${{:.{precision}f}}$'\n",
    "              for metric in Metric\n",
    "              for col, precision in {'Coefficient':5, 'P-value':3}.items()})\n",
    "    if combine_anova_latex:\n",
    "        s.format_index('\\\\rotatebox[origin=c]{{90}}{{{}}}', level=0)\n",
    "\n",
    "    col_format = '|c|'*combine_anova_latex + '|l|' + 'rc|'*(len(df.columns)//2)\n",
    "\n",
    "    latex = s.to_latex(column_format=col_format, caption=name, multicol_align='|c|', position='htbp', position_float='centering')\n",
    "    latex = latex.replace('$nan$','-') # replace NaNs with dashes\n",
    "    latex = latex.replace('\\\\\\\\\\nIntercept', '\\\\\\\\ \\hdashline\\nIntercept') # put hdashline before intercept row\n",
    "    latex = latex.replace('\\hline \\hdashline', '\\hline') # remove hdashline if placed after hline (occurs when intercept is right under the toprule\n",
    "    if combine_anova_latex:\n",
    "        latex = latex.replace('\\\\\\\\\\n &  &', '\\\\\\\\\\nModel & Effect &') # index names (letting pandas handle this gets the header wrong)\n",
    "        latex = latex.replace('\\\\\\\\\\n\\multirow', '\\\\\\\\ \\hline\\hline\\n\\multirow') # put double hline above reduced model\n",
    "    else:\n",
    "        latex = latex.replace('\\n & Coefficient', '\\nEffect & Coefficient') # index name (letting pandas handle this gets the header wrong)\n",
    "\n",
    "    return latex"
   ],
   "metadata": {
    "collapsed": false
   }
  },
  {
   "cell_type": "markdown",
   "source": [
    "# Data Loading"
   ],
   "metadata": {
    "collapsed": false
   }
  },
  {
   "cell_type": "code",
   "execution_count": null,
   "outputs": [],
   "source": [
    "path = Path(data_dir)\n",
    "\n",
    "pattern = rf'{\"**/*\" if concat_results else \"\"}results.csv'\n",
    "\n",
    "data = pd.concat([pd.read_csv(filename, index_col=0) for filename in path.glob(pattern)], ignore_index=True)\n",
    "display(data)"
   ],
   "metadata": {
    "collapsed": false
   }
  },
  {
   "cell_type": "markdown",
   "source": [
    "# Asset Presence Analysis (model-averaged, baseline models and training data excluded)"
   ],
   "metadata": {
    "collapsed": false
   }
  },
  {
   "cell_type": "code",
   "execution_count": null,
   "outputs": [],
   "source": [
    "df = data.loc[data[DataSplit.TEST] & ~data[Model.RANDOM_BASELINE] & ~data[Model.CONSTANT_BASELINE] & ~data[Model.PREVIOUS_BASELINE] & ~data[Model.CONSENSUS_BASELINE]]\n",
    "\n",
    "pivot = [\n",
    "    df.loc[~df['Random']]\n",
    "      .pivot_table(values=[metric for metric in Metric],\n",
    "                   index=asset_type,\n",
    "                   aggfunc=pivot_agg_func)\n",
    "    for asset_type in DATASET_SYMBOLS.keys()\n",
    "]\n",
    "\n",
    "pivot += [\n",
    "    df[~df[[asset_type for asset_type in DATASET_SYMBOLS.keys()] + ['Random']].any(axis=1)]\n",
    "      .pivot_table(values=[metric for metric in Metric],\n",
    "                   index='SPY',\n",
    "                   aggfunc=pivot_agg_func),\n",
    "    df.loc[df['Random']]\n",
    "      .pivot_table(values=[metric for metric in Metric],\n",
    "                   index='Random',\n",
    "                   aggfunc=pivot_agg_func)\n",
    "]\n",
    "\n",
    "pivot = pd.concat(pivot, keys=[tab.index.name for tab in pivot], names=['Asset Type','Presence']) \\\n",
    "          .rename(index={'SPY': 'SPY-Only', 'Random': 'Random Data'}) \\\n",
    "          .reindex([True, False], level=1)\n",
    "\n",
    "if latex_output:\n",
    "    print(get_style(pivot).to_latex(column_format='|lc|ccc|', position='htbp', position_float='centering'))\n",
    "else:\n",
    "    display(fix_ordering(pivot))"
   ],
   "metadata": {
    "collapsed": false
   }
  },
  {
   "cell_type": "markdown",
   "source": [
    "# Asset Combinations (model-averaged, baseline models and training data excluded)"
   ],
   "metadata": {
    "collapsed": false
   }
  },
  {
   "cell_type": "code",
   "execution_count": null,
   "outputs": [],
   "source": [
    "df = data.loc[data[DataSplit.TEST] & ~data[Model.RANDOM_BASELINE] & ~data[Model.CONSTANT_BASELINE] & ~data[Model.PREVIOUS_BASELINE] & ~data[Model.CONSENSUS_BASELINE]].copy()\n",
    "\n",
    "for asset_type in DATASET_SYMBOLS.keys():\n",
    "    df[asset_type] = df[asset_type].map({True: asset_type[0], False: ''})\n",
    "\n",
    "df['Random'] = df['Random'].map({True: 'Random Data', False: ''})\n",
    "\n",
    "df['Asset Combination'] = df[[asset_type for asset_type in DATASET_SYMBOLS.keys()] + ['Random']].apply(lambda x: ''.join(x.values.astype(str)), axis=1)\n",
    "\n",
    "pivot = df.pivot_table(values=[metric for metric in Metric],\n",
    "                       index='Asset Combination',\n",
    "                       aggfunc=pivot_agg_func)\n",
    "\n",
    "pivot = pivot.rename(index={'': 'SPY-Only'})\n",
    "pivot = pivot.reindex([''.join(c) for c in powerset(''.join(asset_type[0] for asset_type in DATASET_SYMBOLS.keys()))] + ['SPY-Only', 'Random Data'])\n",
    "pivot = pivot.drop(index='')\n",
    "\n",
    "if latex_output:\n",
    "    print(get_style(pivot).to_latex(column_format='|l|ccc|', position='htbp', position_float='centering'))\n",
    "else:\n",
    "    display(fix_ordering(pivot))"
   ],
   "metadata": {
    "collapsed": false
   }
  },
  {
   "cell_type": "markdown",
   "source": [
    "# Model Performance (dataset averaged, random data excluded)\n",
    "## Out-sample"
   ],
   "metadata": {
    "collapsed": false
   }
  },
  {
   "cell_type": "code",
   "execution_count": null,
   "outputs": [],
   "source": [
    "df = data.loc[~data['Random']]\n",
    "\n",
    "pivot = [\n",
    "    df.loc[df[DataSplit.TEST]]\n",
    "      .pivot_table(values=[metric for metric in Metric],\n",
    "                   index=model,\n",
    "                   aggfunc=pivot_agg_func)\n",
    "    for model in Model\n",
    "]\n",
    "\n",
    "pivot = pd.concat(pivot, keys=[tab.index.name for tab in pivot], names=['Model'])\n",
    "pivot = pivot.loc[pivot.index.get_level_values(1)].droplevel(1)\n",
    "\n",
    "if latex_output:\n",
    "    print(get_style(pivot).to_latex(column_format='|l|ccc|', position='htbp', position_float='centering'))\n",
    "else:\n",
    "    display(fix_ordering(pivot))"
   ],
   "metadata": {
    "collapsed": false
   }
  },
  {
   "cell_type": "markdown",
   "source": [
    "## In-sample"
   ],
   "metadata": {
    "collapsed": false
   }
  },
  {
   "cell_type": "code",
   "execution_count": null,
   "outputs": [],
   "source": [
    "df = data.loc[~data['Random']]\n",
    "\n",
    "pivot = [\n",
    "    df.loc[~df[DataSplit.TEST]]\n",
    "      .pivot_table(values=[metric for metric in Metric],\n",
    "                   index=model,\n",
    "                   aggfunc=pivot_agg_func)\n",
    "    for model in Model\n",
    "]\n",
    "\n",
    "pivot = pd.concat(pivot, keys=[tab.index.name for tab in pivot], names=['Model','used'])\n",
    "pivot = pivot.loc[pivot.index.get_level_values(1)].droplevel(1)\n",
    "\n",
    "if latex_output:\n",
    "    print(get_style(pivot).to_latex(column_format='|l|ccc|', position='htbp', position_float='centering'))\n",
    "else:\n",
    "    display(fix_ordering(pivot))"
   ],
   "metadata": {
    "collapsed": false
   }
  },
  {
   "cell_type": "markdown",
   "source": [
    "# Statistical Analysis of Factor Effects (random data baseline excluded)\n",
    "## ANOVA Model Generation"
   ],
   "metadata": {
    "collapsed": false
   }
  },
  {
   "cell_type": "code",
   "execution_count": null,
   "outputs": [],
   "source": [
    "all_df = data.loc[data[DataSplit.TEST] & ~data['Random']]\n",
    "all_df = all_df.replace({True: 1, False: -1}) # required to get coefficients. !does not change results!\n",
    "\n",
    "anovas = {}\n",
    "\n",
    "for model in Model:\n",
    "    df = all_df.loc[data[model]]\n",
    "\n",
    "    anovas[model] = {\n",
    "        'full': {},\n",
    "        'reduced': {}\n",
    "    }\n",
    "\n",
    "    if not latex_output:\n",
    "        print(f'\\nAnalyzing {model}...')\n",
    "\n",
    "    for metric in Metric:\n",
    "        if model in CONSENSUS_BASELINES and metric is Metric.ROC_AUC:\n",
    "            continue\n",
    "\n",
    "        main_effects = ['Q(\"'+asset_type+'\")' for asset_type in DATASET_SYMBOLS.keys()]\n",
    "\n",
    "        relation = f'Q(\"{metric}\") ~ ' + ' + '.join(main_effects)\n",
    "        glm = ols(relation, data=df).fit()\n",
    "        aov = sm.stats.anova_lm(glm, typ=1)\n",
    "\n",
    "        aov = aov.rename(index={'Residual': 'Residual/Intercept'})\n",
    "        coefs = glm.params.rename(index={'Intercept': 'Residual/Intercept'})\n",
    "        coefs.name = 'Coefficient'\n",
    "\n",
    "        anovas[model]['full'][metric.value] = aov.join(coefs)\n",
    "\n",
    "        if not latex_output:\n",
    "            print(f'\\nReducing over {metric}...')\n",
    "\n",
    "        no_reductions = True\n",
    "\n",
    "        # while non-significant effects, remove the least significant effect and associated interactions and refit ANOVA model\n",
    "        while (aov['PR(>F)'] > alpha).any():\n",
    "            no_reductions = False\n",
    "            rem_effect = aov['F'].idxmin()\n",
    "            if not latex_output:\n",
    "                print(f'removing effect {clean_effect_name(rem_effect)} (p={aov[\"PR(>F)\"].max():.3f})')\n",
    "\n",
    "            main_effects.remove(rem_effect)\n",
    "\n",
    "            relation = f'Q(\"{metric}\") ~ '\n",
    "            relation += ' + '.join(main_effects) if len(main_effects) > 0 else '1'\n",
    "\n",
    "            glm = ols(relation, data=df).fit()\n",
    "            aov = sm.stats.anova_lm(glm, typ=1)\n",
    "\n",
    "        if no_reductions:\n",
    "            if not latex_output:\n",
    "                print('no effects removed')\n",
    "        else:\n",
    "            coefs = glm.params.rename(index={'Intercept': 'Residual/Intercept'})\n",
    "            coefs.name = 'Coefficient'\n",
    "            aov = aov.rename(index={'Residual': 'Residual/Intercept'})\n",
    "            anovas[model]['reduced'][metric.value] = aov.join(coefs)"
   ],
   "metadata": {
    "collapsed": false
   }
  },
  {
   "cell_type": "markdown",
   "source": [
    "## Printouts"
   ],
   "metadata": {
    "collapsed": false
   }
  },
  {
   "cell_type": "code",
   "execution_count": null,
   "outputs": [],
   "source": [
    "index_ordering = [asset_type[0] for asset_type in DATASET_SYMBOLS.keys()] + ['Residual/Intercept']\n",
    "\n",
    "for model, to_join in anovas.items():\n",
    "    full_join = to_join['full']\n",
    "    reduced_join = to_join['reduced']\n",
    "\n",
    "    full_model = pd.concat(full_join, axis=1)\n",
    "    full_model = full_model.set_index(full_model.index.map(clean_effect_name)).reindex(index_ordering)\n",
    "\n",
    "    reduced_model = None\n",
    "\n",
    "    if len(reduced_join) == len(Metric):\n",
    "        reduced_model = pd.concat(reduced_join, axis=1)\n",
    "    elif len(reduced_join) > 0:\n",
    "        to_join = {metric: reduced_join[metric]\n",
    "        if metric in reduced_join.keys()\n",
    "        else full_join[metric]\n",
    "                   for metric in full_join.keys()}\n",
    "        reduced_model = pd.concat(to_join, axis=1)\n",
    "\n",
    "    if len(reduced_join) == 0: # no reduction occurred\n",
    "        if latex_output: # print LaTeX\n",
    "            if combine_anova_latex: # combined table format\n",
    "                print(get_anova_latex(pd.concat({'Full \\& Reduced': full_model}), f'{model}'))\n",
    "            else: # individual table format\n",
    "                print(get_anova_latex(full_model, f'{model} (Full \\& Reduced)'))\n",
    "        else: # display DataFrame\n",
    "            print(f'\\n{model} (Full & Reduced):')\n",
    "            display(full_model)\n",
    "    else:  # reduction occurred\n",
    "        reduced_model = reduced_model.set_index(reduced_model.index.map(clean_effect_name)).reindex(index_ordering)\n",
    "        reduced_model = reduced_model.dropna(how='all')\n",
    "        if latex_output:  # print LaTeX\n",
    "            if combine_anova_latex: # combine full and reduced ANOVA models into one table\n",
    "                print(get_anova_latex(pd.concat({'Full':full_model, 'Reduced':reduced_model}), f'{model}'))\n",
    "            else:  # individual table format\n",
    "                if not only_reduced:  # print full model if desired\n",
    "                    print(get_anova_latex(full_model, f'{model} (Full)'))\n",
    "                print(get_anova_latex(reduced_model, f'{model} (Reduced)'))\n",
    "        else:  # display DataFrames\n",
    "            if not only_reduced:\n",
    "                print(f'\\n{model} (Full):')\n",
    "                display(full_model)\n",
    "            print(f'\\n{model} (Reduced):')\n",
    "            display(reduced_model)"
   ],
   "metadata": {
    "collapsed": false
   }
  }
 ],
 "metadata": {
  "kernelspec": {
   "display_name": "Python 3",
   "language": "python",
   "name": "python3"
  },
  "language_info": {
   "codemirror_mode": {
    "name": "ipython",
    "version": 2
   },
   "file_extension": ".py",
   "mimetype": "text/x-python",
   "name": "python",
   "nbconvert_exporter": "python",
   "pygments_lexer": "ipython2",
   "version": "2.7.6"
  }
 },
 "nbformat": 4,
 "nbformat_minor": 0
}
