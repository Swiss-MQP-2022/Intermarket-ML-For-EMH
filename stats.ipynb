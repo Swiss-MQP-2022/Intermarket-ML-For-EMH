{
 "cells": [
  {
   "cell_type": "markdown",
   "source": [
    "# Imports"
   ],
   "metadata": {
    "collapsed": false
   }
  },
  {
   "cell_type": "code",
   "execution_count": 82,
   "metadata": {
    "collapsed": true
   },
   "outputs": [],
   "source": [
    "from pathlib import Path\n",
    "\n",
    "import numpy as np\n",
    "import pandas as pd\n",
    "\n",
    "import statsmodels.api as sm\n",
    "from statsmodels.formula.api import ols\n",
    "\n",
    "from more_itertools import powerset\n",
    "\n",
    "from constants import DataSplit, Model, METRICS, DATASET_SYMBOLS"
   ]
  },
  {
   "cell_type": "markdown",
   "source": [
    "# Parameters"
   ],
   "metadata": {
    "collapsed": false
   }
  },
  {
   "cell_type": "code",
   "execution_count": 3,
   "outputs": [],
   "source": [
    "data_dir = r'./out'\n",
    "concat_results = True\n",
    "alpha = 0.05"
   ],
   "metadata": {
    "collapsed": false
   }
  },
  {
   "cell_type": "markdown",
   "source": [
    "# Data Loading"
   ],
   "metadata": {
    "collapsed": false
   }
  },
  {
   "cell_type": "code",
   "execution_count": 22,
   "outputs": [
    {
     "data": {
      "text/plain": "      DecisionTree  RandomForest    SVM    KNN  LogisticRegression  \\\n0             True         False  False  False               False   \n1             True         False  False  False               False   \n2             True         False  False  False               False   \n3             True         False  False  False               False   \n4             True         False  False  False               False   \n...            ...           ...    ...    ...                 ...   \n9175         False         False  False  False               False   \n9176         False         False  False  False               False   \n9177         False         False  False  False               False   \n9178         False         False  False  False               False   \n9179         False         False  False  False               False   \n\n      RandomBaseline  ConstantBaseline  PreviousBaseline  ConsensusBaseline  \\\n0              False             False             False              False   \n1              False             False             False              False   \n2              False             False             False              False   \n3              False             False             False              False   \n4              False             False             False              False   \n...              ...               ...               ...                ...   \n9175           False             False             False               True   \n9176           False             False             False               True   \n9177           False             False             False               True   \n9178           False             False             False               True   \n9179           False             False             False               True   \n\n      forex   bond  index_futures  commodities_futures    SPY  Random   test  \\\n0     False  False          False                False   True   False  False   \n1     False  False          False                False   True   False   True   \n2     False  False          False                False  False    True  False   \n3     False  False          False                False  False    True   True   \n4     False   True          False                False   True   False  False   \n...     ...    ...            ...                  ...    ...     ...    ...   \n9175   True  False           True                 True   True   False   True   \n9176  False   True           True                 True   True   False  False   \n9177  False   True           True                 True   True   False   True   \n9178   True   True           True                 True   True   False  False   \n9179   True   True           True                 True   True   False   True   \n\n      accuracy  weighted f1  macro f1   roc-auc  \n0     0.833458     0.832359  0.830981  0.933731  \n1     0.514970     0.508860  0.498796  0.491255  \n2     0.784738     0.777865  0.774654  0.888079  \n3     0.547904     0.420897  0.385600  0.499613  \n4     0.700646     0.700834  0.697850  0.767178  \n...        ...          ...       ...       ...  \n9175  0.495475     0.501318  0.475140       NaN  \n9176  0.506523     0.510346  0.493364       NaN  \n9177  0.503145     0.511602  0.474699       NaN  \n9178  0.506523     0.510346  0.493364       NaN  \n9179  0.503145     0.511602  0.474699       NaN  \n\n[9180 rows x 20 columns]",
      "text/html": "<div>\n<style scoped>\n    .dataframe tbody tr th:only-of-type {\n        vertical-align: middle;\n    }\n\n    .dataframe tbody tr th {\n        vertical-align: top;\n    }\n\n    .dataframe thead th {\n        text-align: right;\n    }\n</style>\n<table border=\"1\" class=\"dataframe\">\n  <thead>\n    <tr style=\"text-align: right;\">\n      <th></th>\n      <th>DecisionTree</th>\n      <th>RandomForest</th>\n      <th>SVM</th>\n      <th>KNN</th>\n      <th>LogisticRegression</th>\n      <th>RandomBaseline</th>\n      <th>ConstantBaseline</th>\n      <th>PreviousBaseline</th>\n      <th>ConsensusBaseline</th>\n      <th>forex</th>\n      <th>bond</th>\n      <th>index_futures</th>\n      <th>commodities_futures</th>\n      <th>SPY</th>\n      <th>Random</th>\n      <th>test</th>\n      <th>accuracy</th>\n      <th>weighted f1</th>\n      <th>macro f1</th>\n      <th>roc-auc</th>\n    </tr>\n  </thead>\n  <tbody>\n    <tr>\n      <th>0</th>\n      <td>True</td>\n      <td>False</td>\n      <td>False</td>\n      <td>False</td>\n      <td>False</td>\n      <td>False</td>\n      <td>False</td>\n      <td>False</td>\n      <td>False</td>\n      <td>False</td>\n      <td>False</td>\n      <td>False</td>\n      <td>False</td>\n      <td>True</td>\n      <td>False</td>\n      <td>False</td>\n      <td>0.833458</td>\n      <td>0.832359</td>\n      <td>0.830981</td>\n      <td>0.933731</td>\n    </tr>\n    <tr>\n      <th>1</th>\n      <td>True</td>\n      <td>False</td>\n      <td>False</td>\n      <td>False</td>\n      <td>False</td>\n      <td>False</td>\n      <td>False</td>\n      <td>False</td>\n      <td>False</td>\n      <td>False</td>\n      <td>False</td>\n      <td>False</td>\n      <td>False</td>\n      <td>True</td>\n      <td>False</td>\n      <td>True</td>\n      <td>0.514970</td>\n      <td>0.508860</td>\n      <td>0.498796</td>\n      <td>0.491255</td>\n    </tr>\n    <tr>\n      <th>2</th>\n      <td>True</td>\n      <td>False</td>\n      <td>False</td>\n      <td>False</td>\n      <td>False</td>\n      <td>False</td>\n      <td>False</td>\n      <td>False</td>\n      <td>False</td>\n      <td>False</td>\n      <td>False</td>\n      <td>False</td>\n      <td>False</td>\n      <td>False</td>\n      <td>True</td>\n      <td>False</td>\n      <td>0.784738</td>\n      <td>0.777865</td>\n      <td>0.774654</td>\n      <td>0.888079</td>\n    </tr>\n    <tr>\n      <th>3</th>\n      <td>True</td>\n      <td>False</td>\n      <td>False</td>\n      <td>False</td>\n      <td>False</td>\n      <td>False</td>\n      <td>False</td>\n      <td>False</td>\n      <td>False</td>\n      <td>False</td>\n      <td>False</td>\n      <td>False</td>\n      <td>False</td>\n      <td>False</td>\n      <td>True</td>\n      <td>True</td>\n      <td>0.547904</td>\n      <td>0.420897</td>\n      <td>0.385600</td>\n      <td>0.499613</td>\n    </tr>\n    <tr>\n      <th>4</th>\n      <td>True</td>\n      <td>False</td>\n      <td>False</td>\n      <td>False</td>\n      <td>False</td>\n      <td>False</td>\n      <td>False</td>\n      <td>False</td>\n      <td>False</td>\n      <td>False</td>\n      <td>True</td>\n      <td>False</td>\n      <td>False</td>\n      <td>True</td>\n      <td>False</td>\n      <td>False</td>\n      <td>0.700646</td>\n      <td>0.700834</td>\n      <td>0.697850</td>\n      <td>0.767178</td>\n    </tr>\n    <tr>\n      <th>...</th>\n      <td>...</td>\n      <td>...</td>\n      <td>...</td>\n      <td>...</td>\n      <td>...</td>\n      <td>...</td>\n      <td>...</td>\n      <td>...</td>\n      <td>...</td>\n      <td>...</td>\n      <td>...</td>\n      <td>...</td>\n      <td>...</td>\n      <td>...</td>\n      <td>...</td>\n      <td>...</td>\n      <td>...</td>\n      <td>...</td>\n      <td>...</td>\n      <td>...</td>\n    </tr>\n    <tr>\n      <th>9175</th>\n      <td>False</td>\n      <td>False</td>\n      <td>False</td>\n      <td>False</td>\n      <td>False</td>\n      <td>False</td>\n      <td>False</td>\n      <td>False</td>\n      <td>True</td>\n      <td>True</td>\n      <td>False</td>\n      <td>True</td>\n      <td>True</td>\n      <td>True</td>\n      <td>False</td>\n      <td>True</td>\n      <td>0.495475</td>\n      <td>0.501318</td>\n      <td>0.475140</td>\n      <td>NaN</td>\n    </tr>\n    <tr>\n      <th>9176</th>\n      <td>False</td>\n      <td>False</td>\n      <td>False</td>\n      <td>False</td>\n      <td>False</td>\n      <td>False</td>\n      <td>False</td>\n      <td>False</td>\n      <td>True</td>\n      <td>False</td>\n      <td>True</td>\n      <td>True</td>\n      <td>True</td>\n      <td>True</td>\n      <td>False</td>\n      <td>False</td>\n      <td>0.506523</td>\n      <td>0.510346</td>\n      <td>0.493364</td>\n      <td>NaN</td>\n    </tr>\n    <tr>\n      <th>9177</th>\n      <td>False</td>\n      <td>False</td>\n      <td>False</td>\n      <td>False</td>\n      <td>False</td>\n      <td>False</td>\n      <td>False</td>\n      <td>False</td>\n      <td>True</td>\n      <td>False</td>\n      <td>True</td>\n      <td>True</td>\n      <td>True</td>\n      <td>True</td>\n      <td>False</td>\n      <td>True</td>\n      <td>0.503145</td>\n      <td>0.511602</td>\n      <td>0.474699</td>\n      <td>NaN</td>\n    </tr>\n    <tr>\n      <th>9178</th>\n      <td>False</td>\n      <td>False</td>\n      <td>False</td>\n      <td>False</td>\n      <td>False</td>\n      <td>False</td>\n      <td>False</td>\n      <td>False</td>\n      <td>True</td>\n      <td>True</td>\n      <td>True</td>\n      <td>True</td>\n      <td>True</td>\n      <td>True</td>\n      <td>False</td>\n      <td>False</td>\n      <td>0.506523</td>\n      <td>0.510346</td>\n      <td>0.493364</td>\n      <td>NaN</td>\n    </tr>\n    <tr>\n      <th>9179</th>\n      <td>False</td>\n      <td>False</td>\n      <td>False</td>\n      <td>False</td>\n      <td>False</td>\n      <td>False</td>\n      <td>False</td>\n      <td>False</td>\n      <td>True</td>\n      <td>True</td>\n      <td>True</td>\n      <td>True</td>\n      <td>True</td>\n      <td>True</td>\n      <td>False</td>\n      <td>True</td>\n      <td>0.503145</td>\n      <td>0.511602</td>\n      <td>0.474699</td>\n      <td>NaN</td>\n    </tr>\n  </tbody>\n</table>\n<p>9180 rows × 20 columns</p>\n</div>"
     },
     "metadata": {},
     "output_type": "display_data"
    }
   ],
   "source": [
    "path = Path(data_dir)\n",
    "\n",
    "pattern = rf'{\"**/*\" if concat_results else \"\"}results.csv'\n",
    "\n",
    "data = pd.concat([pd.read_csv(filename, index_col=0) for filename in path.glob(pattern)], ignore_index=True)\n",
    "display(data)"
   ],
   "metadata": {
    "collapsed": false
   }
  },
  {
   "cell_type": "markdown",
   "source": [
    "# Asset presence analysis (model-averaged, baseline models and training data excluded)"
   ],
   "metadata": {
    "collapsed": false
   }
  },
  {
   "cell_type": "code",
   "execution_count": 71,
   "outputs": [
    {
     "data": {
      "text/plain": "                                  mean                             std  \\\n                              accuracy  macro f1 weighted f1  accuracy   \nasset type          presence                                             \nRandom Data         True      0.512109  0.435936    0.446795  0.036709   \nSPY-Only            True      0.530632  0.467813    0.485363  0.022562   \nforex               False     0.538441  0.484100    0.503451  0.027006   \n                    True      0.531317  0.476615    0.496262  0.029520   \nbond                False     0.532666  0.473000    0.493073  0.026694   \n                    True      0.537092  0.487714    0.506639  0.030062   \nindex_futures       False     0.531650  0.475185    0.494990  0.027238   \n                    True      0.538109  0.485530    0.504723  0.029383   \ncommodities_futures False     0.530491  0.476512    0.493806  0.024761   \n                    True      0.539268  0.484203    0.505906  0.031217   \n\n                                                    \n                              macro f1 weighted f1  \nasset type          presence                        \nRandom Data         True      0.059279    0.058084  \nSPY-Only            True      0.046459    0.035177  \nforex               False     0.050217    0.039871  \n                    True      0.045346    0.035467  \nbond                False     0.051098    0.039499  \n                    True      0.043435    0.034946  \nindex_futures       False     0.048321    0.037101  \n                    True      0.047091    0.038074  \ncommodities_futures False     0.047428    0.037657  \n                    True      0.048239    0.037178  ",
      "text/html": "<div>\n<style scoped>\n    .dataframe tbody tr th:only-of-type {\n        vertical-align: middle;\n    }\n\n    .dataframe tbody tr th {\n        vertical-align: top;\n    }\n\n    .dataframe thead tr th {\n        text-align: left;\n    }\n\n    .dataframe thead tr:last-of-type th {\n        text-align: right;\n    }\n</style>\n<table border=\"1\" class=\"dataframe\">\n  <thead>\n    <tr>\n      <th></th>\n      <th></th>\n      <th colspan=\"3\" halign=\"left\">mean</th>\n      <th colspan=\"3\" halign=\"left\">std</th>\n    </tr>\n    <tr>\n      <th></th>\n      <th></th>\n      <th>accuracy</th>\n      <th>macro f1</th>\n      <th>weighted f1</th>\n      <th>accuracy</th>\n      <th>macro f1</th>\n      <th>weighted f1</th>\n    </tr>\n    <tr>\n      <th>asset type</th>\n      <th>presence</th>\n      <th></th>\n      <th></th>\n      <th></th>\n      <th></th>\n      <th></th>\n      <th></th>\n    </tr>\n  </thead>\n  <tbody>\n    <tr>\n      <th>Random Data</th>\n      <th>True</th>\n      <td>0.512109</td>\n      <td>0.435936</td>\n      <td>0.446795</td>\n      <td>0.036709</td>\n      <td>0.059279</td>\n      <td>0.058084</td>\n    </tr>\n    <tr>\n      <th>SPY-Only</th>\n      <th>True</th>\n      <td>0.530632</td>\n      <td>0.467813</td>\n      <td>0.485363</td>\n      <td>0.022562</td>\n      <td>0.046459</td>\n      <td>0.035177</td>\n    </tr>\n    <tr>\n      <th rowspan=\"2\" valign=\"top\">forex</th>\n      <th>False</th>\n      <td>0.538441</td>\n      <td>0.484100</td>\n      <td>0.503451</td>\n      <td>0.027006</td>\n      <td>0.050217</td>\n      <td>0.039871</td>\n    </tr>\n    <tr>\n      <th>True</th>\n      <td>0.531317</td>\n      <td>0.476615</td>\n      <td>0.496262</td>\n      <td>0.029520</td>\n      <td>0.045346</td>\n      <td>0.035467</td>\n    </tr>\n    <tr>\n      <th rowspan=\"2\" valign=\"top\">bond</th>\n      <th>False</th>\n      <td>0.532666</td>\n      <td>0.473000</td>\n      <td>0.493073</td>\n      <td>0.026694</td>\n      <td>0.051098</td>\n      <td>0.039499</td>\n    </tr>\n    <tr>\n      <th>True</th>\n      <td>0.537092</td>\n      <td>0.487714</td>\n      <td>0.506639</td>\n      <td>0.030062</td>\n      <td>0.043435</td>\n      <td>0.034946</td>\n    </tr>\n    <tr>\n      <th rowspan=\"2\" valign=\"top\">index_futures</th>\n      <th>False</th>\n      <td>0.531650</td>\n      <td>0.475185</td>\n      <td>0.494990</td>\n      <td>0.027238</td>\n      <td>0.048321</td>\n      <td>0.037101</td>\n    </tr>\n    <tr>\n      <th>True</th>\n      <td>0.538109</td>\n      <td>0.485530</td>\n      <td>0.504723</td>\n      <td>0.029383</td>\n      <td>0.047091</td>\n      <td>0.038074</td>\n    </tr>\n    <tr>\n      <th rowspan=\"2\" valign=\"top\">commodities_futures</th>\n      <th>False</th>\n      <td>0.530491</td>\n      <td>0.476512</td>\n      <td>0.493806</td>\n      <td>0.024761</td>\n      <td>0.047428</td>\n      <td>0.037657</td>\n    </tr>\n    <tr>\n      <th>True</th>\n      <td>0.539268</td>\n      <td>0.484203</td>\n      <td>0.505906</td>\n      <td>0.031217</td>\n      <td>0.048239</td>\n      <td>0.037178</td>\n    </tr>\n  </tbody>\n</table>\n</div>"
     },
     "metadata": {},
     "output_type": "display_data"
    }
   ],
   "source": [
    "df = data.loc[data[DataSplit.TEST] & ~data[Model.RANDOM_BASELINE] & ~data[Model.CONSTANT_BASELINE] & ~data[Model.PREVIOUS_BASELINE] & ~data[Model.CONSENSUS_BASELINE]]\n",
    "df = df.drop(columns=[DataSplit.TEST])\n",
    "\n",
    "pivot = [\n",
    "    df.loc[df['Random']]\n",
    "    .pivot_table(values=[metric for metric in METRICS.keys()],\n",
    "                 index='Random',\n",
    "                 aggfunc=[np.mean, np.std]),\n",
    "    df[~df[[asset_type for asset_type in DATASET_SYMBOLS.keys()] + ['Random']].any(axis=1)]\n",
    "    .pivot_table(values=[metric for metric in METRICS.keys()],\n",
    "                 index='SPY',\n",
    "                 aggfunc=[np.mean, np.std])\n",
    "]\n",
    "\n",
    "for asset_type in DATASET_SYMBOLS.keys():\n",
    "    pivot.append(df.loc[~df['Random']].pivot_table(values=[metric for metric in METRICS.keys()], index=asset_type, aggfunc=[np.mean, np.std]))\n",
    "\n",
    "pivot = pd.concat(pivot, keys=[tab.index.name for tab in pivot], names=['asset type','presence']).rename(index={'SPY':'SPY-Only', 'Random':'Random Data'})\n",
    "\n",
    "display(pivot)"
   ],
   "metadata": {
    "collapsed": false
   }
  },
  {
   "cell_type": "markdown",
   "source": [
    "# Asset combinations (model-averaged, baselines and training data excluded)"
   ],
   "metadata": {
    "collapsed": false
   }
  },
  {
   "cell_type": "code",
   "execution_count": 88,
   "outputs": [
    {
     "name": "stdout",
     "output_type": "stream",
     "text": [
      "()\n",
      "('F',)\n",
      "('B',)\n",
      "('I',)\n",
      "('C',)\n",
      "('F', 'B')\n",
      "('F', 'I')\n",
      "('F', 'C')\n",
      "('B', 'I')\n",
      "('B', 'C')\n",
      "('I', 'C')\n",
      "('F', 'B', 'I')\n",
      "('F', 'B', 'C')\n",
      "('F', 'I', 'C')\n",
      "('B', 'I', 'C')\n",
      "('F', 'B', 'I', 'C')\n"
     ]
    },
    {
     "data": {
      "text/plain": "                       mean                             std            \\\n                   accuracy  macro f1 weighted f1  accuracy  macro f1   \nasset combination                                                       \nB                  0.535652  0.487162    0.504061  0.022217  0.045115   \nBC                 0.548724  0.504010    0.522066  0.028653  0.040939   \nBI                 0.532202  0.474412    0.493262  0.023183  0.054507   \nBIC                0.556017  0.510818    0.531867  0.029819  0.042140   \nC                  0.530920  0.462975    0.488646  0.029101  0.052304   \nF                  0.518958  0.463498    0.479864  0.021717  0.054509   \nFB                 0.528792  0.480746    0.497976  0.025686  0.041274   \nFBC                0.523838  0.475251    0.494445  0.031762  0.034816   \nFBI                0.523919  0.472981    0.490622  0.029013  0.034900   \nFBIC               0.547595  0.496336    0.518813  0.031079  0.033287   \nFC                 0.535683  0.460027    0.487496  0.024494  0.052067   \nFI                 0.540850  0.486778    0.503631  0.025888  0.050557   \nFIC                0.530902  0.477302    0.497246  0.033837  0.045695   \nI                  0.532923  0.478709    0.495668  0.020642  0.044504   \nIC                 0.540462  0.486902    0.506671  0.026982  0.054628   \nSPY-Only           0.530632  0.467813    0.485363  0.022562  0.046459   \n\n                               \n                  weighted f1  \nasset combination              \nB                    0.034273  \nBC                   0.031528  \nBI                   0.043632  \nBIC                  0.033646  \nC                    0.038637  \nF                    0.042623  \nFB                   0.032195  \nFBC                  0.025472  \nFBI                  0.026366  \nFBIC                 0.023287  \nFC                   0.037744  \nFI                   0.042385  \nFIC                  0.034754  \nI                    0.035329  \nIC                   0.041493  \nSPY-Only             0.035177  ",
      "text/html": "<div>\n<style scoped>\n    .dataframe tbody tr th:only-of-type {\n        vertical-align: middle;\n    }\n\n    .dataframe tbody tr th {\n        vertical-align: top;\n    }\n\n    .dataframe thead tr th {\n        text-align: left;\n    }\n\n    .dataframe thead tr:last-of-type th {\n        text-align: right;\n    }\n</style>\n<table border=\"1\" class=\"dataframe\">\n  <thead>\n    <tr>\n      <th></th>\n      <th colspan=\"3\" halign=\"left\">mean</th>\n      <th colspan=\"3\" halign=\"left\">std</th>\n    </tr>\n    <tr>\n      <th></th>\n      <th>accuracy</th>\n      <th>macro f1</th>\n      <th>weighted f1</th>\n      <th>accuracy</th>\n      <th>macro f1</th>\n      <th>weighted f1</th>\n    </tr>\n    <tr>\n      <th>asset combination</th>\n      <th></th>\n      <th></th>\n      <th></th>\n      <th></th>\n      <th></th>\n      <th></th>\n    </tr>\n  </thead>\n  <tbody>\n    <tr>\n      <th>B</th>\n      <td>0.535652</td>\n      <td>0.487162</td>\n      <td>0.504061</td>\n      <td>0.022217</td>\n      <td>0.045115</td>\n      <td>0.034273</td>\n    </tr>\n    <tr>\n      <th>BC</th>\n      <td>0.548724</td>\n      <td>0.504010</td>\n      <td>0.522066</td>\n      <td>0.028653</td>\n      <td>0.040939</td>\n      <td>0.031528</td>\n    </tr>\n    <tr>\n      <th>BI</th>\n      <td>0.532202</td>\n      <td>0.474412</td>\n      <td>0.493262</td>\n      <td>0.023183</td>\n      <td>0.054507</td>\n      <td>0.043632</td>\n    </tr>\n    <tr>\n      <th>BIC</th>\n      <td>0.556017</td>\n      <td>0.510818</td>\n      <td>0.531867</td>\n      <td>0.029819</td>\n      <td>0.042140</td>\n      <td>0.033646</td>\n    </tr>\n    <tr>\n      <th>C</th>\n      <td>0.530920</td>\n      <td>0.462975</td>\n      <td>0.488646</td>\n      <td>0.029101</td>\n      <td>0.052304</td>\n      <td>0.038637</td>\n    </tr>\n    <tr>\n      <th>F</th>\n      <td>0.518958</td>\n      <td>0.463498</td>\n      <td>0.479864</td>\n      <td>0.021717</td>\n      <td>0.054509</td>\n      <td>0.042623</td>\n    </tr>\n    <tr>\n      <th>FB</th>\n      <td>0.528792</td>\n      <td>0.480746</td>\n      <td>0.497976</td>\n      <td>0.025686</td>\n      <td>0.041274</td>\n      <td>0.032195</td>\n    </tr>\n    <tr>\n      <th>FBC</th>\n      <td>0.523838</td>\n      <td>0.475251</td>\n      <td>0.494445</td>\n      <td>0.031762</td>\n      <td>0.034816</td>\n      <td>0.025472</td>\n    </tr>\n    <tr>\n      <th>FBI</th>\n      <td>0.523919</td>\n      <td>0.472981</td>\n      <td>0.490622</td>\n      <td>0.029013</td>\n      <td>0.034900</td>\n      <td>0.026366</td>\n    </tr>\n    <tr>\n      <th>FBIC</th>\n      <td>0.547595</td>\n      <td>0.496336</td>\n      <td>0.518813</td>\n      <td>0.031079</td>\n      <td>0.033287</td>\n      <td>0.023287</td>\n    </tr>\n    <tr>\n      <th>FC</th>\n      <td>0.535683</td>\n      <td>0.460027</td>\n      <td>0.487496</td>\n      <td>0.024494</td>\n      <td>0.052067</td>\n      <td>0.037744</td>\n    </tr>\n    <tr>\n      <th>FI</th>\n      <td>0.540850</td>\n      <td>0.486778</td>\n      <td>0.503631</td>\n      <td>0.025888</td>\n      <td>0.050557</td>\n      <td>0.042385</td>\n    </tr>\n    <tr>\n      <th>FIC</th>\n      <td>0.530902</td>\n      <td>0.477302</td>\n      <td>0.497246</td>\n      <td>0.033837</td>\n      <td>0.045695</td>\n      <td>0.034754</td>\n    </tr>\n    <tr>\n      <th>I</th>\n      <td>0.532923</td>\n      <td>0.478709</td>\n      <td>0.495668</td>\n      <td>0.020642</td>\n      <td>0.044504</td>\n      <td>0.035329</td>\n    </tr>\n    <tr>\n      <th>IC</th>\n      <td>0.540462</td>\n      <td>0.486902</td>\n      <td>0.506671</td>\n      <td>0.026982</td>\n      <td>0.054628</td>\n      <td>0.041493</td>\n    </tr>\n    <tr>\n      <th>SPY-Only</th>\n      <td>0.530632</td>\n      <td>0.467813</td>\n      <td>0.485363</td>\n      <td>0.022562</td>\n      <td>0.046459</td>\n      <td>0.035177</td>\n    </tr>\n  </tbody>\n</table>\n</div>"
     },
     "metadata": {},
     "output_type": "display_data"
    }
   ],
   "source": [
    "df = data.loc[data[DataSplit.TEST] & ~data['Random'] & ~data[Model.RANDOM_BASELINE] & ~data[Model.CONSTANT_BASELINE] & ~data[Model.PREVIOUS_BASELINE] & ~data[Model.CONSENSUS_BASELINE]]\n",
    "df = df.drop(columns=[DataSplit.TEST, 'Random'])\n",
    "\n",
    "df['forex'] = df['forex'].map({True:'F',False:''})\n",
    "df['bond'] = df['bond'].map({True:'B',False:''})\n",
    "df['index_futures'] = df['index_futures'].map({True:'I',False:''})\n",
    "df['commodities_futures'] = df['commodities_futures'].map({True:'C',False:''})\n",
    "\n",
    "df['asset combination'] = df['forex'] + df['bond'] + df['index_futures'] + df['commodities_futures']\n",
    "df['asset combination'] = df['asset combination'].replace({'':'SPY-Only'})\n",
    "\n",
    "pivot = df.pivot_table(values=[metric for metric in METRICS.keys()],\n",
    "                       index='asset combination',\n",
    "                       aggfunc=[np.mean, np.std])\n",
    "\n",
    "# [print(c) for c in powerset('FBIC')]\n",
    "\n",
    "display(pivot)"
   ],
   "metadata": {
    "collapsed": false
   }
  },
  {
   "cell_type": "markdown",
   "source": [
    "# Filtering"
   ],
   "metadata": {
    "collapsed": false
   }
  },
  {
   "cell_type": "code",
   "execution_count": 8,
   "outputs": [
    {
     "data": {
      "text/plain": "      forex  bond  index_futures  commodities_futures  accuracy  weighted f1  \\\n71       -1     1             -1                   -1  0.568116     0.440925   \n73       -1    -1             -1                   -1  0.558882     0.422175   \n75       -1    -1             -1                    1  0.574713     0.419498   \n77       -1     1             -1                    1  0.587537     0.485675   \n79        1     1             -1                   -1  0.556522     0.442620   \n...     ...   ...            ...                  ...       ...          ...   \n8967      1    -1             -1                    1  0.572797     0.418609   \n8969     -1    -1              1                    1  0.570470     0.436997   \n8971      1    -1              1                   -1  0.556044     0.429584   \n8973      1    -1              1                    1  0.572707     0.441662   \n8975      1    -1             -1                   -1  0.555110     0.397018   \n\n      macro f1   roc-auc  \n71    0.401579  0.530074  \n73    0.385719  0.524007  \n75    0.364964  0.512102  \n77    0.446751  0.540445  \n79    0.405233  0.536424  \n...        ...       ...  \n8967  0.364190  0.520255  \n8969  0.390281  0.547733  \n8971  0.394532  0.554514  \n8973  0.395540  0.553636  \n8975  0.356959  0.510313  \n\n[480 rows x 8 columns]",
      "text/html": "<div>\n<style scoped>\n    .dataframe tbody tr th:only-of-type {\n        vertical-align: middle;\n    }\n\n    .dataframe tbody tr th {\n        vertical-align: top;\n    }\n\n    .dataframe thead th {\n        text-align: right;\n    }\n</style>\n<table border=\"1\" class=\"dataframe\">\n  <thead>\n    <tr style=\"text-align: right;\">\n      <th></th>\n      <th>forex</th>\n      <th>bond</th>\n      <th>index_futures</th>\n      <th>commodities_futures</th>\n      <th>accuracy</th>\n      <th>weighted f1</th>\n      <th>macro f1</th>\n      <th>roc-auc</th>\n    </tr>\n  </thead>\n  <tbody>\n    <tr>\n      <th>71</th>\n      <td>-1</td>\n      <td>1</td>\n      <td>-1</td>\n      <td>-1</td>\n      <td>0.568116</td>\n      <td>0.440925</td>\n      <td>0.401579</td>\n      <td>0.530074</td>\n    </tr>\n    <tr>\n      <th>73</th>\n      <td>-1</td>\n      <td>-1</td>\n      <td>-1</td>\n      <td>-1</td>\n      <td>0.558882</td>\n      <td>0.422175</td>\n      <td>0.385719</td>\n      <td>0.524007</td>\n    </tr>\n    <tr>\n      <th>75</th>\n      <td>-1</td>\n      <td>-1</td>\n      <td>-1</td>\n      <td>1</td>\n      <td>0.574713</td>\n      <td>0.419498</td>\n      <td>0.364964</td>\n      <td>0.512102</td>\n    </tr>\n    <tr>\n      <th>77</th>\n      <td>-1</td>\n      <td>1</td>\n      <td>-1</td>\n      <td>1</td>\n      <td>0.587537</td>\n      <td>0.485675</td>\n      <td>0.446751</td>\n      <td>0.540445</td>\n    </tr>\n    <tr>\n      <th>79</th>\n      <td>1</td>\n      <td>1</td>\n      <td>-1</td>\n      <td>-1</td>\n      <td>0.556522</td>\n      <td>0.442620</td>\n      <td>0.405233</td>\n      <td>0.536424</td>\n    </tr>\n    <tr>\n      <th>...</th>\n      <td>...</td>\n      <td>...</td>\n      <td>...</td>\n      <td>...</td>\n      <td>...</td>\n      <td>...</td>\n      <td>...</td>\n      <td>...</td>\n    </tr>\n    <tr>\n      <th>8967</th>\n      <td>1</td>\n      <td>-1</td>\n      <td>-1</td>\n      <td>1</td>\n      <td>0.572797</td>\n      <td>0.418609</td>\n      <td>0.364190</td>\n      <td>0.520255</td>\n    </tr>\n    <tr>\n      <th>8969</th>\n      <td>-1</td>\n      <td>-1</td>\n      <td>1</td>\n      <td>1</td>\n      <td>0.570470</td>\n      <td>0.436997</td>\n      <td>0.390281</td>\n      <td>0.547733</td>\n    </tr>\n    <tr>\n      <th>8971</th>\n      <td>1</td>\n      <td>-1</td>\n      <td>1</td>\n      <td>-1</td>\n      <td>0.556044</td>\n      <td>0.429584</td>\n      <td>0.394532</td>\n      <td>0.554514</td>\n    </tr>\n    <tr>\n      <th>8973</th>\n      <td>1</td>\n      <td>-1</td>\n      <td>1</td>\n      <td>1</td>\n      <td>0.572707</td>\n      <td>0.441662</td>\n      <td>0.395540</td>\n      <td>0.553636</td>\n    </tr>\n    <tr>\n      <th>8975</th>\n      <td>1</td>\n      <td>-1</td>\n      <td>-1</td>\n      <td>-1</td>\n      <td>0.555110</td>\n      <td>0.397018</td>\n      <td>0.356959</td>\n      <td>0.510313</td>\n    </tr>\n  </tbody>\n</table>\n<p>480 rows × 8 columns</p>\n</div>"
     },
     "metadata": {},
     "output_type": "display_data"
    }
   ],
   "source": [
    "model = Model.SUPPORT_VECTOR_MACHINE\n",
    "\n",
    "df = data.loc[data[DataSplit.TEST] & ~data['Random'] & data[model]]\n",
    "df = df.drop(columns=[m.value for m in Model] + [DataSplit.TEST, 'SPY', 'Random'])\n",
    "df = df.replace({True: 1, False: -1})\n",
    "\n",
    "display(df)"
   ],
   "metadata": {
    "collapsed": false
   }
  },
  {
   "cell_type": "markdown",
   "source": [
    "# Regression fitting, identify notable factors & interactions"
   ],
   "metadata": {
    "collapsed": false
   }
  },
  {
   "cell_type": "code",
   "execution_count": 11,
   "outputs": [
    {
     "data": {
      "text/plain": "Intercept                                       0.569525\nforex                                          -0.000800\nbond                                            0.003103\nforex:bond                                     -0.000078\nindex_futures                                   0.002427\nforex:index_futures                             0.003672\nbond:index_futures                              0.001405\nforex:bond:index_futures                        0.002997\ncommodities_futures                             0.008664\nforex:commodities_futures                       0.000443\nbond:commodities_futures                        0.001314\nforex:bond:commodities_futures                 -0.000266\nindex_futures:commodities_futures               0.001248\nforex:index_futures:commodities_futures         0.001099\nbond:index_futures:commodities_futures          0.002253\nforex:bond:index_futures:commodities_futures    0.000829\ndtype: float64"
     },
     "metadata": {},
     "output_type": "display_data"
    },
    {
     "data": {
      "text/plain": "                                                 df    sum_sq   mean_sq  \\\nforex                                           1.0  0.000307  0.000307   \nbond                                            1.0  0.004620  0.004620   \nforex:bond                                      1.0  0.000003  0.000003   \nindex_futures                                   1.0  0.002826  0.002826   \nforex:index_futures                             1.0  0.006472  0.006472   \nbond:index_futures                              1.0  0.000948  0.000948   \nforex:bond:index_futures                        1.0  0.004311  0.004311   \ncommodities_futures                             1.0  0.036028  0.036028   \nforex:commodities_futures                       1.0  0.000094  0.000094   \nbond:commodities_futures                        1.0  0.000829  0.000829   \nforex:bond:commodities_futures                  1.0  0.000034  0.000034   \nindex_futures:commodities_futures               1.0  0.000748  0.000748   \nforex:index_futures:commodities_futures         1.0  0.000579  0.000579   \nbond:index_futures:commodities_futures          1.0  0.002437  0.002437   \nforex:bond:index_futures:commodities_futures    1.0  0.000330  0.000330   \nResidual                                      464.0  0.003591  0.000008   \n\n                                                        F         PR(>F)  \nforex                                           39.703116   6.878510e-10  \nbond                                           597.062431   2.253514e-85  \nforex:bond                                       0.379743   5.380429e-01  \nindex_futures                                  365.246222   1.749521e-60  \nforex:index_futures                            836.382287  6.783498e-106  \nbond:index_futures                             122.464757   2.019047e-25  \nforex:bond:index_futures                       557.132736   1.676244e-81  \ncommodities_futures                           4655.658722  4.755990e-244  \nforex:commodities_futures                       12.166359   5.329534e-04  \nbond:commodities_futures                       107.129204   9.947440e-23  \nforex:bond:commodities_futures                   4.391197   3.666630e-02  \nindex_futures:commodities_futures               96.645046   7.627709e-21  \nforex:index_futures:commodities_futures         74.851561   8.371699e-17  \nbond:index_futures:commodities_futures         314.857388   3.781681e-54  \nforex:bond:index_futures:commodities_futures    42.585727   1.775034e-10  \nResidual                                              NaN            NaN  ",
      "text/html": "<div>\n<style scoped>\n    .dataframe tbody tr th:only-of-type {\n        vertical-align: middle;\n    }\n\n    .dataframe tbody tr th {\n        vertical-align: top;\n    }\n\n    .dataframe thead th {\n        text-align: right;\n    }\n</style>\n<table border=\"1\" class=\"dataframe\">\n  <thead>\n    <tr style=\"text-align: right;\">\n      <th></th>\n      <th>df</th>\n      <th>sum_sq</th>\n      <th>mean_sq</th>\n      <th>F</th>\n      <th>PR(&gt;F)</th>\n    </tr>\n  </thead>\n  <tbody>\n    <tr>\n      <th>forex</th>\n      <td>1.0</td>\n      <td>0.000307</td>\n      <td>0.000307</td>\n      <td>39.703116</td>\n      <td>6.878510e-10</td>\n    </tr>\n    <tr>\n      <th>bond</th>\n      <td>1.0</td>\n      <td>0.004620</td>\n      <td>0.004620</td>\n      <td>597.062431</td>\n      <td>2.253514e-85</td>\n    </tr>\n    <tr>\n      <th>forex:bond</th>\n      <td>1.0</td>\n      <td>0.000003</td>\n      <td>0.000003</td>\n      <td>0.379743</td>\n      <td>5.380429e-01</td>\n    </tr>\n    <tr>\n      <th>index_futures</th>\n      <td>1.0</td>\n      <td>0.002826</td>\n      <td>0.002826</td>\n      <td>365.246222</td>\n      <td>1.749521e-60</td>\n    </tr>\n    <tr>\n      <th>forex:index_futures</th>\n      <td>1.0</td>\n      <td>0.006472</td>\n      <td>0.006472</td>\n      <td>836.382287</td>\n      <td>6.783498e-106</td>\n    </tr>\n    <tr>\n      <th>bond:index_futures</th>\n      <td>1.0</td>\n      <td>0.000948</td>\n      <td>0.000948</td>\n      <td>122.464757</td>\n      <td>2.019047e-25</td>\n    </tr>\n    <tr>\n      <th>forex:bond:index_futures</th>\n      <td>1.0</td>\n      <td>0.004311</td>\n      <td>0.004311</td>\n      <td>557.132736</td>\n      <td>1.676244e-81</td>\n    </tr>\n    <tr>\n      <th>commodities_futures</th>\n      <td>1.0</td>\n      <td>0.036028</td>\n      <td>0.036028</td>\n      <td>4655.658722</td>\n      <td>4.755990e-244</td>\n    </tr>\n    <tr>\n      <th>forex:commodities_futures</th>\n      <td>1.0</td>\n      <td>0.000094</td>\n      <td>0.000094</td>\n      <td>12.166359</td>\n      <td>5.329534e-04</td>\n    </tr>\n    <tr>\n      <th>bond:commodities_futures</th>\n      <td>1.0</td>\n      <td>0.000829</td>\n      <td>0.000829</td>\n      <td>107.129204</td>\n      <td>9.947440e-23</td>\n    </tr>\n    <tr>\n      <th>forex:bond:commodities_futures</th>\n      <td>1.0</td>\n      <td>0.000034</td>\n      <td>0.000034</td>\n      <td>4.391197</td>\n      <td>3.666630e-02</td>\n    </tr>\n    <tr>\n      <th>index_futures:commodities_futures</th>\n      <td>1.0</td>\n      <td>0.000748</td>\n      <td>0.000748</td>\n      <td>96.645046</td>\n      <td>7.627709e-21</td>\n    </tr>\n    <tr>\n      <th>forex:index_futures:commodities_futures</th>\n      <td>1.0</td>\n      <td>0.000579</td>\n      <td>0.000579</td>\n      <td>74.851561</td>\n      <td>8.371699e-17</td>\n    </tr>\n    <tr>\n      <th>bond:index_futures:commodities_futures</th>\n      <td>1.0</td>\n      <td>0.002437</td>\n      <td>0.002437</td>\n      <td>314.857388</td>\n      <td>3.781681e-54</td>\n    </tr>\n    <tr>\n      <th>forex:bond:index_futures:commodities_futures</th>\n      <td>1.0</td>\n      <td>0.000330</td>\n      <td>0.000330</td>\n      <td>42.585727</td>\n      <td>1.775034e-10</td>\n    </tr>\n    <tr>\n      <th>Residual</th>\n      <td>464.0</td>\n      <td>0.003591</td>\n      <td>0.000008</td>\n      <td>NaN</td>\n      <td>NaN</td>\n    </tr>\n  </tbody>\n</table>\n</div>"
     },
     "metadata": {},
     "output_type": "display_data"
    }
   ],
   "source": [
    "glm = ols('accuracy ~ forex * bond * index_futures * commodities_futures', data=df).fit()\n",
    "display(glm.params)\n",
    "\n",
    "aov = sm.stats.anova_lm(glm, typ=1)\n",
    "display(aov)"
   ],
   "metadata": {
    "collapsed": false
   }
  },
  {
   "cell_type": "code",
   "execution_count": 6,
   "outputs": [
    {
     "name": "stdout",
     "output_type": "stream",
     "text": [
      "Factor effects:\n"
     ]
    },
    {
     "data": {
      "text/plain": "forex                                           0.000374\nbond                                           -0.001605\nforex:bond                                      0.002325\nindex_futures                                  -0.003568\nforex:index_futures                             0.001868\nbond:index_futures                              0.000944\nforex:bond:index_futures                       -0.004376\ncommodities_futures                             0.000423\nforex:commodities_futures                       0.003471\nbond:commodities_futures                        0.004266\nforex:bond:commodities_futures                  0.004210\nindex_futures:commodities_futures              -0.001224\nforex:index_futures:commodities_futures         0.000183\nbond:index_futures:commodities_futures         -0.000968\nforex:bond:index_futures:commodities_futures   -0.001288\ndtype: float64"
     },
     "metadata": {},
     "output_type": "display_data"
    },
    {
     "data": {
      "text/plain": "forex:index_futures:commodities_futures         0.000345\nforex                                           0.001444\ncommodities_futures                             0.001850\nbond:index_futures                              0.009212\nbond:index_futures:commodities_futures          0.009700\nindex_futures:commodities_futures               0.015502\nforex:bond:index_futures:commodities_futures    0.017160\nbond                                            0.026647\nforex:index_futures                             0.036090\nforex:bond                                      0.055915\nforex:commodities_futures                       0.124655\nindex_futures                                   0.131710\nforex:bond:commodities_futures                  0.183366\nbond:commodities_futures                        0.188273\nforex:bond:index_futures                        0.198130\ndtype: float64"
     },
     "metadata": {},
     "output_type": "display_data"
    }
   ],
   "source": [
    "effects = glm.params.drop(labels='Intercept')\n",
    "effects *= effects.index.map(lambda str: -2*(-1)**str.count(':'))\n",
    "\n",
    "print('Factor effects:')\n",
    "display(effects)\n",
    "\n",
    "SS = (effects*8)**2/16\n",
    "percentages = SS/SS.sum()\n",
    "\n",
    "display(percentages.sort_values())"
   ],
   "metadata": {
    "collapsed": false
   }
  },
  {
   "cell_type": "code",
   "execution_count": null,
   "outputs": [],
   "source": [],
   "metadata": {
    "collapsed": false
   }
  }
 ],
 "metadata": {
  "kernelspec": {
   "display_name": "Python 3",
   "language": "python",
   "name": "python3"
  },
  "language_info": {
   "codemirror_mode": {
    "name": "ipython",
    "version": 2
   },
   "file_extension": ".py",
   "mimetype": "text/x-python",
   "name": "python",
   "nbconvert_exporter": "python",
   "pygments_lexer": "ipython2",
   "version": "2.7.6"
  }
 },
 "nbformat": 4,
 "nbformat_minor": 0
}
