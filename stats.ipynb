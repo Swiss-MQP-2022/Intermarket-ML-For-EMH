{
 "cells": [
  {
   "cell_type": "markdown",
   "source": [
    "# Imports"
   ],
   "metadata": {
    "collapsed": false
   }
  },
  {
   "cell_type": "code",
   "execution_count": null,
   "metadata": {
    "collapsed": true
   },
   "outputs": [],
   "source": [
    "from pathlib import Path\n",
    "import re\n",
    "\n",
    "import numpy as np\n",
    "import pandas as pd\n",
    "\n",
    "import statsmodels.api as sm\n",
    "from statsmodels.formula.api import ols\n",
    "\n",
    "from more_itertools import powerset\n",
    "\n",
    "from constants import DataSplit, Model, Metric, DATASET_SYMBOLS, CONSENSUS_BASELINES"
   ]
  },
  {
   "cell_type": "markdown",
   "source": [
    "# Function & Parameter Definitions"
   ],
   "metadata": {
    "collapsed": false
   }
  },
  {
   "cell_type": "code",
   "execution_count": null,
   "outputs": [],
   "source": [
    "data_dir = r'./out'\n",
    "concat_results = True\n",
    "alpha = 0.05\n",
    "latex_output = False\n",
    "\n",
    "pivot_agg_func = (lambda x: f'${np.mean(x):.3f} \\\\pm {np.std(x):.3f}$') if latex_output else [np.mean, np.std]\n",
    "\n",
    "# These functions are used to clean up the ANOVA printouts\n",
    "def clean_effect_name(name):\n",
    "    return ':'.join(map(lambda x: x[0], re.findall(r'\"([^\"]*)\"', name))) if ('\"' in name) else name\n",
    "\n",
    "def fix_ordering(df):\n",
    "    return df.reindex(columns=df.columns.reindex([metric.value for metric in Metric], level=1)[0])\n",
    "\n",
    "def get_style(df):\n",
    "    return df.style.set_table_styles([\n",
    "        {'selector': 'toprule', 'props': ':hline;'},\n",
    "        {'selector': 'midrule', 'props': ':hline\\hline;'},\n",
    "        {'selector': 'bottomrule', 'props': ':hline;'}\n",
    "    ])\n",
    "\n",
    "def get_latex(df, name):\n",
    "    df = df.loc[:, (slice(None), ['Coefficient','PR(>F)'])]\n",
    "    df = df.rename(index={'Residual/Intercept': 'Intercept'}, columns={'PR(>F)': 'P-value'})\n",
    "    df = df.sort_index(axis=1, level=[0,1])\n",
    "\n",
    "    s = get_style(df)\n",
    "    s.format({(metric, col): f'${{:.{precision}f}}$' for metric in Metric for col, precision in {'Coefficient':5, 'P-value':3}.items()})\n",
    "\n",
    "    latex = s.to_latex(column_format=f'|l|' + 'rc|'*(len(df.columns)//2), caption=name, multicol_align='|c|', position='htbp', position_float='centering')\n",
    "\n",
    "    return latex.replace('\\n & Coefficient', '\\nEffect & Coefficient').replace('$nan$','-').replace('\\\\\\\\\\nIntercept', '\\\\\\\\ \\hdashline\\nIntercept').replace('\\hline \\hdashline', '\\hline')"
   ],
   "metadata": {
    "collapsed": false
   }
  },
  {
   "cell_type": "markdown",
   "source": [
    "# Data Loading"
   ],
   "metadata": {
    "collapsed": false
   }
  },
  {
   "cell_type": "code",
   "execution_count": null,
   "outputs": [],
   "source": [
    "path = Path(data_dir)\n",
    "\n",
    "pattern = rf'{\"**/*\" if concat_results else \"\"}results.csv'\n",
    "\n",
    "data = pd.concat([pd.read_csv(filename, index_col=0) for filename in path.glob(pattern)], ignore_index=True)\n",
    "display(data)"
   ],
   "metadata": {
    "collapsed": false
   }
  },
  {
   "cell_type": "markdown",
   "source": [
    "# Asset presence analysis (model-averaged, baseline models and training data excluded)"
   ],
   "metadata": {
    "collapsed": false
   }
  },
  {
   "cell_type": "code",
   "execution_count": null,
   "outputs": [],
   "source": [
    "df = data.loc[data[DataSplit.TEST] & ~data[Model.RANDOM_BASELINE] & ~data[Model.CONSTANT_BASELINE] & ~data[Model.PREVIOUS_BASELINE] & ~data[Model.CONSENSUS_BASELINE]]\n",
    "\n",
    "pivot = []\n",
    "\n",
    "for asset_type in DATASET_SYMBOLS.keys():\n",
    "    pivot.append(df.loc[~df['Random']].pivot_table(values=[metric for metric in Metric], index=asset_type, aggfunc=pivot_agg_func))\n",
    "\n",
    "pivot += [\n",
    "    df[~df[[asset_type for asset_type in DATASET_SYMBOLS.keys()] + ['Random']].any(axis=1)].pivot_table(values=[metric for metric in Metric],\n",
    "                                                                                                        index='SPY',\n",
    "                                                                                                        aggfunc=pivot_agg_func),\n",
    "    df.loc[df['Random']].pivot_table(values=[metric for metric in Metric],\n",
    "                                     index='Random',\n",
    "                                     aggfunc=pivot_agg_func)\n",
    "]\n",
    "\n",
    "pivot = pd.concat(pivot, keys=[tab.index.name for tab in pivot], names=['Asset Type','Presence']) \\\n",
    "          .rename(index={'SPY': 'SPY-Only', 'Random': 'Random Data'}) \\\n",
    "          .reindex([True, False], level=1)\n",
    "\n",
    "if latex_output:\n",
    "    print(get_style(pivot).to_latex(column_format='|lc|ccc|', position='htbp', position_float='centering'))\n",
    "else:\n",
    "    display(fix_ordering(pivot))"
   ],
   "metadata": {
    "collapsed": false
   }
  },
  {
   "cell_type": "markdown",
   "source": [
    "# Asset combinations (model-averaged, baseline models and training data excluded)"
   ],
   "metadata": {
    "collapsed": false
   }
  },
  {
   "cell_type": "code",
   "execution_count": null,
   "outputs": [],
   "source": [
    "df = data.loc[data[DataSplit.TEST] & ~data[Model.RANDOM_BASELINE] & ~data[Model.CONSTANT_BASELINE] & ~data[Model.PREVIOUS_BASELINE] & ~data[Model.CONSENSUS_BASELINE]].copy()\n",
    "\n",
    "for asset_type in DATASET_SYMBOLS.keys():\n",
    "    df[asset_type] = df[asset_type].map({True: asset_type[0], False: ''})\n",
    "\n",
    "df['Random'] = df['Random'].map({True: 'Random Data', False: ''})\n",
    "\n",
    "df['Asset Combination'] = df[[asset_type for asset_type in DATASET_SYMBOLS.keys()] + ['Random']].apply(lambda x: ''.join(x.values.astype(str)), axis=1)\n",
    "\n",
    "pivot = df.pivot_table(values=[metric for metric in Metric],\n",
    "                       index='Asset Combination',\n",
    "                       aggfunc=pivot_agg_func)\n",
    "\n",
    "pivot = pivot.rename(index={'': 'SPY-Only'})\n",
    "pivot = pivot.reindex([''.join(c) for c in powerset(''.join(asset_type[0] for asset_type in DATASET_SYMBOLS.keys()))] + ['SPY-Only', 'Random Data'])\n",
    "pivot = pivot.drop(index='')\n",
    "\n",
    "if latex_output:\n",
    "    print(get_style(pivot).to_latex(column_format='|l|ccc|', position='htbp', position_float='centering'))\n",
    "else:\n",
    "    display(fix_ordering(pivot))"
   ],
   "metadata": {
    "collapsed": false
   }
  },
  {
   "cell_type": "markdown",
   "source": [
    "# Model Performance (dataset averaged, random data excluded)\n",
    "## Out-sample"
   ],
   "metadata": {
    "collapsed": false
   }
  },
  {
   "cell_type": "code",
   "execution_count": null,
   "outputs": [],
   "source": [
    "df = data.loc[~data['Random']]\n",
    "\n",
    "pivot = []\n",
    "\n",
    "for model in Model:\n",
    "    pivot.append(df.loc[df[DataSplit.TEST]].pivot_table(values=[metric for metric in Metric], index=model, aggfunc=pivot_agg_func))\n",
    "\n",
    "pivot = pd.concat(pivot, keys=[tab.index.name for tab in pivot], names=['Model'])\n",
    "pivot = pivot.loc[pivot.index.get_level_values(1)].droplevel(1)\n",
    "\n",
    "if latex_output:\n",
    "    print(get_style(pivot).to_latex(column_format='|l|ccc|', position='htbp', position_float='centering'))\n",
    "else:\n",
    "    display(fix_ordering(pivot))"
   ],
   "metadata": {
    "collapsed": false
   }
  },
  {
   "cell_type": "markdown",
   "source": [
    "## In-sample"
   ],
   "metadata": {
    "collapsed": false
   }
  },
  {
   "cell_type": "code",
   "execution_count": null,
   "outputs": [],
   "source": [
    "df = data.loc[~data['Random']]\n",
    "\n",
    "pivot = []\n",
    "\n",
    "for model in Model:\n",
    "    pivot.append(df.loc[~df[DataSplit.TEST]].pivot_table(values=[metric for metric in Metric], index=model, aggfunc=pivot_agg_func))\n",
    "\n",
    "pivot = pd.concat(pivot, keys=[tab.index.name for tab in pivot], names=['Model','used'])\n",
    "pivot = pivot.loc[pivot.index.get_level_values(1)].droplevel(1)\n",
    "\n",
    "if latex_output:\n",
    "    print(get_style(pivot).to_latex(column_format='|l|ccc|', position='htbp', position_float='centering'))\n",
    "else:\n",
    "    display(fix_ordering(pivot))"
   ],
   "metadata": {
    "collapsed": false
   }
  },
  {
   "cell_type": "markdown",
   "source": [
    "# Statistical analysis of factor effects (random data baseline excluded)"
   ],
   "metadata": {
    "collapsed": false
   }
  },
  {
   "cell_type": "code",
   "execution_count": null,
   "outputs": [],
   "source": [
    "all_df = data.loc[data[DataSplit.TEST] & ~data['Random']]\n",
    "all_df = all_df.replace({True: 1, False: -1}) # required to get coefficients (for identifying direction)\n",
    "\n",
    "index_ordering = [':'.join(c) for c in powerset(''.join(asset_type[0] for asset_type in DATASET_SYMBOLS.keys()))][1:] + ['Residual/Intercept']\n",
    "\n",
    "for model in Model:\n",
    "    df = all_df.loc[data[model]]\n",
    "\n",
    "    to_join = {\n",
    "        'full': {},\n",
    "        'reduced': {}\n",
    "    }\n",
    "\n",
    "    any_reduced = False\n",
    "\n",
    "    if not latex_output:\n",
    "        print(f'Analyzing {model}...')\n",
    "\n",
    "    for metric in Metric:\n",
    "        if model in CONSENSUS_BASELINES and metric is Metric.ROC_AUC:\n",
    "            continue\n",
    "\n",
    "        relation = f'Q(\"{metric}\") ~ ' + ' * '.join(['Q(\"'+asset_type+'\")' for asset_type in DATASET_SYMBOLS.keys()])\n",
    "        glm = ols(relation, data=df).fit()\n",
    "        aov = sm.stats.anova_lm(glm, typ=1)\n",
    "\n",
    "        aov = aov.rename(index={'Residual': 'Residual/Intercept'})\n",
    "        coefs = glm.params.rename(index={'Intercept': 'Residual/Intercept'})\n",
    "        coefs.name = 'Coefficient'\n",
    "\n",
    "        to_display = aov.join(coefs)\n",
    "\n",
    "        to_join['full'][metric.value] = to_display\n",
    "\n",
    "        if not latex_output:\n",
    "            print(f'\\nReducing over {metric}...')\n",
    "\n",
    "        no_reductions = True\n",
    "\n",
    "        # while non-significant effects, remove the least significant effect and associated interactions and refit effects model\n",
    "        while (aov['PR(>F)'] > alpha).any():\n",
    "            no_reductions = False\n",
    "            rem_effect = aov['F'].idxmin()\n",
    "            if not latex_output:\n",
    "                print(f'removing effect {clean_effect_name(rem_effect)} (p={aov[\"PR(>F)\"].max():.3f})')\n",
    "            for effect in aov.index:\n",
    "                if all(main_effect in effect.split(':') for main_effect in rem_effect.split(':')):\n",
    "                    relation += f' - {effect}'\n",
    "\n",
    "            glm = ols(relation, data=df).fit()\n",
    "            aov = sm.stats.anova_lm(glm, typ=1)\n",
    "\n",
    "        if no_reductions:\n",
    "            if not latex_output:\n",
    "                print('no effects removed')\n",
    "        else:\n",
    "            any_reduced = True\n",
    "\n",
    "        coefs = glm.params.rename(index={'Intercept': 'Residual/Intercept'})\n",
    "        coefs.name = 'Coefficient'\n",
    "        aov = aov.rename(index={'Residual': 'Residual/Intercept'})\n",
    "\n",
    "        to_display = aov.join(coefs)\n",
    "\n",
    "        to_join['reduced'][metric.value] = to_display\n",
    "\n",
    "\n",
    "    full_model = pd.concat(to_join['full'], axis=1)\n",
    "    full_model = full_model.set_index(full_model.index.map(clean_effect_name)).reindex(index_ordering)\n",
    "    if latex_output:\n",
    "        print(get_latex(full_model, '{} (Full{})'.format(model, \" \\& Reduced\" if not any_reduced else \"\")))\n",
    "    else:\n",
    "        print(f'\\n{model} (Full{\" & Reduced\" if not any_reduced else \"\"}):')\n",
    "        display(full_model)\n",
    "\n",
    "    if any_reduced:\n",
    "        reduced_model = pd.concat(to_join['reduced'], axis=1)\n",
    "        reduced_model = reduced_model.set_index(reduced_model.index.map(clean_effect_name)).reindex(index_ordering)\n",
    "        reduced_model = reduced_model.dropna(how='all')\n",
    "        if latex_output:\n",
    "            print(get_latex(reduced_model, f'{model} (Reduced)'))\n",
    "        else:\n",
    "            print(f'\\n{model} (Reduced):')\n",
    "            display(reduced_model)"
   ],
   "metadata": {
    "collapsed": false
   }
  }
 ],
 "metadata": {
  "kernelspec": {
   "display_name": "Python 3",
   "language": "python",
   "name": "python3"
  },
  "language_info": {
   "codemirror_mode": {
    "name": "ipython",
    "version": 2
   },
   "file_extension": ".py",
   "mimetype": "text/x-python",
   "name": "python",
   "nbconvert_exporter": "python",
   "pygments_lexer": "ipython2",
   "version": "2.7.6"
  }
 },
 "nbformat": 4,
 "nbformat_minor": 0
}
