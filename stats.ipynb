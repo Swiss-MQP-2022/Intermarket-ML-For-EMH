{
 "cells": [
  {
   "cell_type": "markdown",
   "source": [
    "# Imports"
   ],
   "metadata": {
    "collapsed": false
   }
  },
  {
   "cell_type": "code",
   "execution_count": null,
   "metadata": {
    "collapsed": true
   },
   "outputs": [],
   "source": [
    "from pathlib import Path\n",
    "from functools import reduce\n",
    "\n",
    "import numpy as np\n",
    "import pandas as pd\n",
    "\n",
    "import statsmodels.api as sm\n",
    "from statsmodels.formula.api import ols\n",
    "\n",
    "from more_itertools import powerset\n",
    "\n",
    "from constants import DataSplit, Model, METRICS, DATASET_SYMBOLS"
   ]
  },
  {
   "cell_type": "markdown",
   "source": [
    "# Parameters"
   ],
   "metadata": {
    "collapsed": false
   }
  },
  {
   "cell_type": "code",
   "execution_count": null,
   "outputs": [],
   "source": [
    "data_dir = r'./out'\n",
    "concat_results = True\n",
    "alpha = 0.05"
   ],
   "metadata": {
    "collapsed": false
   }
  },
  {
   "cell_type": "markdown",
   "source": [
    "# Data Loading"
   ],
   "metadata": {
    "collapsed": false
   }
  },
  {
   "cell_type": "code",
   "execution_count": null,
   "outputs": [],
   "source": [
    "path = Path(data_dir)\n",
    "\n",
    "pattern = rf'{\"**/*\" if concat_results else \"\"}results.csv'\n",
    "\n",
    "data = pd.concat([pd.read_csv(filename, index_col=0) for filename in path.glob(pattern)], ignore_index=True)\n",
    "display(data)"
   ],
   "metadata": {
    "collapsed": false
   }
  },
  {
   "cell_type": "markdown",
   "source": [
    "# Asset presence analysis (model-averaged, baseline models and training data excluded)"
   ],
   "metadata": {
    "collapsed": false
   }
  },
  {
   "cell_type": "code",
   "execution_count": null,
   "outputs": [],
   "source": [
    "df = data.loc[data[DataSplit.TEST] & ~data[Model.RANDOM_BASELINE] & ~data[Model.CONSTANT_BASELINE] & ~data[Model.PREVIOUS_BASELINE] & ~data[Model.CONSENSUS_BASELINE]]\n",
    "\n",
    "pivot = [\n",
    "    df.loc[df['Random']].pivot_table(values=[metric for metric in METRICS.keys()],\n",
    "                                     index='Random',\n",
    "                                     aggfunc=[np.mean, np.std]),\n",
    "    df[~df[[asset_type for asset_type in DATASET_SYMBOLS.keys()] + ['Random']].any(axis=1)].pivot_table(values=[metric for metric in METRICS.keys()],\n",
    "                                                                                                        index='SPY',\n",
    "                                                                                                        aggfunc=[np.mean, np.std])\n",
    "]\n",
    "\n",
    "for asset_type in DATASET_SYMBOLS.keys():\n",
    "    pivot.append(df.loc[~df['Random']].pivot_table(values=[metric for metric in METRICS.keys()], index=asset_type, aggfunc=[np.mean, np.std]))\n",
    "\n",
    "pivot = pd.concat(pivot, keys=[tab.index.name for tab in pivot], names=['asset type','presence']).rename(index={'SPY':'SPY-Only', 'Random':'Random Data'})\n",
    "\n",
    "display(pivot)"
   ],
   "metadata": {
    "collapsed": false
   }
  },
  {
   "cell_type": "markdown",
   "source": [
    "# Asset combinations (model-averaged, baselines and training data excluded)"
   ],
   "metadata": {
    "collapsed": false
   }
  },
  {
   "cell_type": "code",
   "execution_count": null,
   "outputs": [],
   "source": [
    "df = data.loc[data[DataSplit.TEST] & ~data[Model.RANDOM_BASELINE] & ~data[Model.CONSTANT_BASELINE] & ~data[Model.PREVIOUS_BASELINE] & ~data[Model.CONSENSUS_BASELINE]].copy()\n",
    "\n",
    "df['forex'] = df['forex'].map({True:'F',False:''})\n",
    "df['bond'] = df['bond'].map({True:'B',False:''})\n",
    "df['Random'] = df['Random'].map({True:'Random Data',False:''})\n",
    "df['index_futures'] = df['index_futures'].map({True:'I',False:''})\n",
    "df['commodities_futures'] = df['commodities_futures'].map({True:'C',False:''})\n",
    "\n",
    "df['asset combination'] = df['forex'] + df['bond'] + df['index_futures'] + df['commodities_futures'] + df['Random']\n",
    "\n",
    "pivot = df.pivot_table(values=[metric for metric in METRICS.keys()],\n",
    "                       index='asset combination',\n",
    "                       aggfunc=[np.mean, np.std])\n",
    "\n",
    "pivot = pivot.rename(index={'':'SPY-Only'})\n",
    "pivot = pivot.reindex(['Random Data', 'SPY-Only'] + [reduce(lambda x, y: x+y, c, '') for c in powerset('FBIC')])\n",
    "pivot = pivot.drop(index='')\n",
    "\n",
    "display(pivot)"
   ],
   "metadata": {
    "collapsed": false
   }
  },
  {
   "cell_type": "markdown",
   "source": [
    "# Model Performance (dataset averaged, random data excluded)\n",
    "## Out-sample"
   ],
   "metadata": {
    "collapsed": false
   }
  },
  {
   "cell_type": "code",
   "execution_count": null,
   "outputs": [],
   "source": [
    "df = data.loc[~data['Random']]\n",
    "\n",
    "pivot = []\n",
    "\n",
    "for model in Model:\n",
    "    pivot.append(df.loc[df[DataSplit.TEST]].pivot_table(values=[metric for metric in METRICS.keys()], index=model, aggfunc=[np.mean, np.std]))\n",
    "\n",
    "pivot = pd.concat(pivot, keys=[tab.index.name for tab in pivot], names=['model','used'])\n",
    "pivot = pivot.loc[pivot.index.get_level_values(1)].droplevel(1)\n",
    "\n",
    "display(pivot)"
   ],
   "metadata": {
    "collapsed": false
   }
  },
  {
   "cell_type": "markdown",
   "source": [
    "## In-sample"
   ],
   "metadata": {
    "collapsed": false
   }
  },
  {
   "cell_type": "code",
   "execution_count": null,
   "outputs": [],
   "source": [
    "df = data.loc[~data['Random']]\n",
    "\n",
    "pivot = []\n",
    "\n",
    "for model in Model:\n",
    "    pivot.append(df.loc[~df[DataSplit.TEST]].pivot_table(values=[metric for metric in METRICS.keys()], index=model, aggfunc=[np.mean, np.std]))\n",
    "\n",
    "pivot = pd.concat(pivot, keys=[tab.index.name for tab in pivot], names=['model','used'])\n",
    "pivot = pivot.loc[pivot.index.get_level_values(1)].droplevel(1)\n",
    "\n",
    "display(pivot)"
   ],
   "metadata": {
    "collapsed": false
   }
  },
  {
   "cell_type": "markdown",
   "source": [
    "# Statistical analysis of factor effects (random data baseline excluded)"
   ],
   "metadata": {
    "collapsed": false
   }
  },
  {
   "cell_type": "code",
   "execution_count": null,
   "outputs": [],
   "source": [
    "all_df = data.loc[data[DataSplit.TEST] & ~data['Random']]\n",
    "all_df = all_df.replace({True: 1, False: -1}) # required to get coefficients (for identifying direction)\n",
    "\n",
    "for model in Model:\n",
    "    df = all_df.loc[data[model]]\n",
    "\n",
    "    for metric in METRICS.keys():\n",
    "        relation = f'Q(\"{metric}\") ~ forex * bond * index_futures * commodities_futures'\n",
    "        glm = ols(relation, data=df).fit()\n",
    "        aov = sm.stats.anova_lm(glm, typ=1)\n",
    "\n",
    "        coefs = glm.params.rename(index={'Intercept':'Residual/Intercept'})\n",
    "        coefs.name = 'coefs'\n",
    "        aov = aov.rename(index={'Residual':'Residual/Intercept'})\n",
    "\n",
    "        print(f'{model} {metric} (full model):')\n",
    "        display(aov.join(coefs))\n",
    "\n",
    "        # while non-significant effects, remove the least significant effect and associated interactions and refit effects model\n",
    "        while (aov['PR(>F)'] > alpha).any():\n",
    "            rem_effect = aov['F'].idxmin().split(':')\n",
    "            print(f'removing effect {\":\".join(rem_effect)} (p={aov[\"PR(>F)\"].max():.3f})')\n",
    "            for effect in aov.index:\n",
    "                if all(main_effect in effect.split(':') for main_effect in rem_effect):\n",
    "                    relation += f' - {effect}'\n",
    "\n",
    "\n",
    "            glm = ols(relation, data=df).fit()\n",
    "            aov = sm.stats.anova_lm(glm, typ=1)\n",
    "\n",
    "        coefs = glm.params.rename(index={'Intercept':'Residual/Intercept'})\n",
    "        coefs.name = 'coefs'\n",
    "        aov = aov.rename(index={'Residual':'Residual/Intercept'})\n",
    "\n",
    "        print(f'\\n{model} {metric} (reduced model):')\n",
    "        display(aov.join(coefs))"
   ],
   "metadata": {
    "collapsed": false
   }
  }
 ],
 "metadata": {
  "kernelspec": {
   "display_name": "Python 3",
   "language": "python",
   "name": "python3"
  },
  "language_info": {
   "codemirror_mode": {
    "name": "ipython",
    "version": 2
   },
   "file_extension": ".py",
   "mimetype": "text/x-python",
   "name": "python",
   "nbconvert_exporter": "python",
   "pygments_lexer": "ipython2",
   "version": "2.7.6"
  }
 },
 "nbformat": 4,
 "nbformat_minor": 0
}
